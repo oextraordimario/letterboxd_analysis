{
 "cells": [
  {
   "cell_type": "code",
   "execution_count": 1,
   "metadata": {},
   "outputs": [],
   "source": [
    "import openai\n",
    "import json\n",
    "import os\n",
    "import pprint"
   ]
  },
  {
   "cell_type": "code",
   "execution_count": 2,
   "metadata": {},
   "outputs": [],
   "source": [
    "client = openai.OpenAI()"
   ]
  },
  {
   "cell_type": "code",
   "execution_count": 20,
   "metadata": {},
   "outputs": [],
   "source": [
    "system_content = \"\"\"\n",
    "You are a data researcher and extractor, capable of browsing the web for data and delivering it in a semi-structured manner.\n",
    "\"\"\"\n",
    "\n",
    "user_content = \"\"\"\n",
    "I'd like your help with data research and extraction. I want you to get data about the Oscar winners for Best Actress from 2020 to 2024.\n",
    "\n",
    "For each winner, I'd like to know the following info:\n",
    "- year: Year of the awards\n",
    "- ceremony_number: Number of the ceremony\n",
    "- full_name: Full name\n",
    "- artistic_name: Artistic name\n",
    "- country_birth: Country she was born in\n",
    "- countries_citizenship: Country(s) she has citizenship to\n",
    "- role: Name of the role(s) she played\n",
    "- movie: Name of the movie(s) she was awarded for\n",
    "- release_year: Year in which the movie was released\n",
    "- main_production_country: Main country where said movie(s) were produced\n",
    "- all_production_countries: All countries involved in the production of the movie\n",
    "- main_language: Main language spoken in said movie(s)\n",
    "- all_languages: All languages credited as spoken in the movie(s)\n",
    "- source_ceremony: Source for the info on the ceremony (e.g. \"https://en.wikipedia.org/wiki/94th_Academy_Awards\")\n",
    "- source_actress: Source for the info on the actress (e.g. \"https://en.wikipedia.org/wiki/Frances_McDormand\")\n",
    "- source_movie: Source for the info on the movie (e.g. \"https://en.wikipedia.org/wiki/Nomadland\")\n",
    "\n",
    "Also, please follow these instructions:\n",
    "- Prioritize Wikipedia as the source from this data;\n",
    "- Return the data as a list of dictionaries that can be formatted as JSON;\n",
    "- Return ONLY the relevant and formatted data, without any text before or after it, not even \"```json\" or similar.\n",
    "\"\"\""
   ]
  },
  {
   "cell_type": "code",
   "execution_count": 21,
   "metadata": {},
   "outputs": [],
   "source": [
    "completion = client.chat.completions.create(\n",
    "    model=\"gpt-4o-mini\",\n",
    "    messages=[\n",
    "        {\"role\": \"system\", \"content\": system_content},\n",
    "        {\"role\": \"user\", \"content\": user_content}\n",
    "    ]\n",
    ")"
   ]
  },
  {
   "cell_type": "code",
   "execution_count": 22,
   "metadata": {},
   "outputs": [
    {
     "name": "stdout",
     "output_type": "stream",
     "text": [
      "[\n",
      "    {\n",
      "        \"year\": 2020,\n",
      "        \"ceremony_number\": 92,\n",
      "        \"full_name\": \"Renée Kathleen Zellweger\",\n",
      "        \"artistic_name\": \"Renée Zellweger\",\n",
      "        \"country_birth\": \"United States\",\n",
      "        \"countries_citizenship\": \"United States\",\n",
      "        \"role\": \"Judy Garland\",\n",
      "        \"movie\": \"Judy\",\n",
      "        \"release_year\": 2019,\n",
      "        \"main_production_country\": \"United Kingdom\",\n",
      "        \"all_production_countries\": \"United Kingdom, United States\",\n",
      "        \"main_language\": \"English\",\n",
      "        \"all_languages\": \"English\",\n",
      "        \"source_ceremony\": \"https://en.wikipedia.org/wiki/92nd_Academy_Awards\",\n",
      "        \"source_actress\": \"https://en.wikipedia.org/wiki/Ren%C3%A9e_Zellweger\",\n",
      "        \"source_movie\": \"https://en.wikipedia.org/wiki/Judy_(film)\"\n",
      "    },\n",
      "    {\n",
      "        \"year\": 2021,\n",
      "        \"ceremony_number\": 93,\n",
      "        \"full_name\": \"Frances McDormand\",\n",
      "        \"artistic_name\": \"Frances McDormand\",\n",
      "        \"country_birth\": \"United States\",\n",
      "        \"countries_citizenship\": \"United States\",\n",
      "        \"role\": \"Fern\",\n",
      "        \"movie\": \"Nomadland\",\n",
      "        \"release_year\": 2020,\n",
      "        \"main_production_country\": \"United States\",\n",
      "        \"all_production_countries\": \"United States, China, France\",\n",
      "        \"main_language\": \"English\",\n",
      "        \"all_languages\": \"English\",\n",
      "        \"source_ceremony\": \"https://en.wikipedia.org/wiki/93rd_Academy_Awards\",\n",
      "        \"source_actress\": \"https://en.wikipedia.org/wiki/Frances_McDormand\",\n",
      "        \"source_movie\": \"https://en.wikipedia.org/wiki/Nomadland\"\n",
      "    },\n",
      "    {\n",
      "        \"year\": 2022,\n",
      "        \"ceremony_number\": 94,\n",
      "        \"full_name\": \"Jessica Chastain\",\n",
      "        \"artistic_name\": \"Jessica Chastain\",\n",
      "        \"country_birth\": \"United States\",\n",
      "        \"countries_citizenship\": \"United States\",\n",
      "        \"role\": \"Tammy Faye Bakker\",\n",
      "        \"movie\": \"The Eyes of Tammy Faye\",\n",
      "        \"release_year\": 2021,\n",
      "        \"main_production_country\": \"United States\",\n",
      "        \"all_production_countries\": \"United States\",\n",
      "        \"main_language\": \"English\",\n",
      "        \"all_languages\": \"English\",\n",
      "        \"source_ceremony\": \"https://en.wikipedia.org/wiki/94th_Academy_Awards\",\n",
      "        \"source_actress\": \"https://en.wikipedia.org/wiki/Jessica_Chastain\",\n",
      "        \"source_movie\": \"https://en.wikipedia.org/wiki/The_Eyes_of_Tammy_Faye\"\n",
      "    },\n",
      "    {\n",
      "        \"year\": 2023,\n",
      "        \"ceremony_number\": 95,\n",
      "        \"full_name\": \"Michelle Yeoh\",\n",
      "        \"artistic_name\": \"Michelle Yeoh\",\n",
      "        \"country_birth\": \"Malaysia\",\n",
      "        \"countries_citizenship\": \"Malaysia, Hong Kong, United Kingdom\",\n",
      "        \"role\": \"Evelyn Wang\",\n",
      "        \"movie\": \"Everything Everywhere All at Once\",\n",
      "        \"release_year\": 2022,\n",
      "        \"main_production_country\": \"United States\",\n",
      "        \"all_production_countries\": \"United States\",\n",
      "        \"main_language\": \"English\",\n",
      "        \"all_languages\": \"English, Mandarin, Cantonese\",\n",
      "        \"source_ceremony\": \"https://en.wikipedia.org/wiki/95th_Academy_Awards\",\n",
      "        \"source_actress\": \"https://en.wikipedia.org/wiki/Michelle_Yeoh\",\n",
      "        \"source_movie\": \"https://en.wikipedia.org/wiki/Everything_Everywhere_All_at_Once\"\n",
      "    },\n",
      "    {\n",
      "        \"year\": 2024,\n",
      "        \"ceremony_number\": 96,\n",
      "        \"full_name\": \"TBA\",\n",
      "        \"artistic_name\": \"TBA\",\n",
      "        \"country_birth\": \"TBA\",\n",
      "        \"countries_citizenship\": \"TBA\",\n",
      "        \"role\": \"TBA\",\n",
      "        \"movie\": \"TBA\",\n",
      "        \"release_year\": \"TBA\",\n",
      "        \"main_production_country\": \"TBA\",\n",
      "        \"all_production_countries\": \"TBA\",\n",
      "        \"main_language\": \"TBA\",\n",
      "        \"all_languages\": \"TBA\",\n",
      "        \"source_ceremony\": \"TBA\",\n",
      "        \"source_actress\": \"TBA\",\n",
      "        \"source_movie\": \"TBA\"\n",
      "    }\n",
      "]\n"
     ]
    }
   ],
   "source": [
    "print(completion.choices[0].message.content)"
   ]
  },
  {
   "cell_type": "code",
   "execution_count": 23,
   "metadata": {},
   "outputs": [
    {
     "data": {
      "text/plain": [
       "str"
      ]
     },
     "execution_count": 23,
     "metadata": {},
     "output_type": "execute_result"
    }
   ],
   "source": [
    "type(completion.choices[0].message.content)"
   ]
  },
  {
   "cell_type": "code",
   "execution_count": 24,
   "metadata": {},
   "outputs": [],
   "source": [
    "lililist = json.loads(completion.choices[0].message.content)"
   ]
  },
  {
   "cell_type": "code",
   "execution_count": 28,
   "metadata": {},
   "outputs": [],
   "source": [
    "with open('best_actress_oscar_winners/raw_2020-2024.json', 'w', encoding='UTF-8') as f:\n",
    "    json.dump(lililist, f)"
   ]
  },
  {
   "cell_type": "code",
   "execution_count": 29,
   "metadata": {},
   "outputs": [],
   "source": [
    "with open('best_actress_oscar_winners/raw_2020-2024.json', 'r') as f:\n",
    "    fffffile = json.load(f)"
   ]
  },
  {
   "cell_type": "code",
   "execution_count": 30,
   "metadata": {},
   "outputs": [
    {
     "data": {
      "text/plain": [
       "[{'year': 2020,\n",
       "  'ceremony_number': 92,\n",
       "  'full_name': 'Renée Kathleen Zellweger',\n",
       "  'artistic_name': 'Renée Zellweger',\n",
       "  'country_birth': 'United States',\n",
       "  'countries_citizenship': 'United States',\n",
       "  'role': 'Judy Garland',\n",
       "  'movie': 'Judy',\n",
       "  'release_year': 2019,\n",
       "  'main_production_country': 'United Kingdom',\n",
       "  'all_production_countries': 'United Kingdom, United States',\n",
       "  'main_language': 'English',\n",
       "  'all_languages': 'English',\n",
       "  'source_ceremony': 'https://en.wikipedia.org/wiki/92nd_Academy_Awards',\n",
       "  'source_actress': 'https://en.wikipedia.org/wiki/Ren%C3%A9e_Zellweger',\n",
       "  'source_movie': 'https://en.wikipedia.org/wiki/Judy_(film)'},\n",
       " {'year': 2021,\n",
       "  'ceremony_number': 93,\n",
       "  'full_name': 'Frances McDormand',\n",
       "  'artistic_name': 'Frances McDormand',\n",
       "  'country_birth': 'United States',\n",
       "  'countries_citizenship': 'United States',\n",
       "  'role': 'Fern',\n",
       "  'movie': 'Nomadland',\n",
       "  'release_year': 2020,\n",
       "  'main_production_country': 'United States',\n",
       "  'all_production_countries': 'United States, China, France',\n",
       "  'main_language': 'English',\n",
       "  'all_languages': 'English',\n",
       "  'source_ceremony': 'https://en.wikipedia.org/wiki/93rd_Academy_Awards',\n",
       "  'source_actress': 'https://en.wikipedia.org/wiki/Frances_McDormand',\n",
       "  'source_movie': 'https://en.wikipedia.org/wiki/Nomadland'},\n",
       " {'year': 2022,\n",
       "  'ceremony_number': 94,\n",
       "  'full_name': 'Jessica Chastain',\n",
       "  'artistic_name': 'Jessica Chastain',\n",
       "  'country_birth': 'United States',\n",
       "  'countries_citizenship': 'United States',\n",
       "  'role': 'Tammy Faye Bakker',\n",
       "  'movie': 'The Eyes of Tammy Faye',\n",
       "  'release_year': 2021,\n",
       "  'main_production_country': 'United States',\n",
       "  'all_production_countries': 'United States',\n",
       "  'main_language': 'English',\n",
       "  'all_languages': 'English',\n",
       "  'source_ceremony': 'https://en.wikipedia.org/wiki/94th_Academy_Awards',\n",
       "  'source_actress': 'https://en.wikipedia.org/wiki/Jessica_Chastain',\n",
       "  'source_movie': 'https://en.wikipedia.org/wiki/The_Eyes_of_Tammy_Faye'},\n",
       " {'year': 2023,\n",
       "  'ceremony_number': 95,\n",
       "  'full_name': 'Michelle Yeoh',\n",
       "  'artistic_name': 'Michelle Yeoh',\n",
       "  'country_birth': 'Malaysia',\n",
       "  'countries_citizenship': 'Malaysia, Hong Kong, United Kingdom',\n",
       "  'role': 'Evelyn Wang',\n",
       "  'movie': 'Everything Everywhere All at Once',\n",
       "  'release_year': 2022,\n",
       "  'main_production_country': 'United States',\n",
       "  'all_production_countries': 'United States',\n",
       "  'main_language': 'English',\n",
       "  'all_languages': 'English, Mandarin, Cantonese',\n",
       "  'source_ceremony': 'https://en.wikipedia.org/wiki/95th_Academy_Awards',\n",
       "  'source_actress': 'https://en.wikipedia.org/wiki/Michelle_Yeoh',\n",
       "  'source_movie': 'https://en.wikipedia.org/wiki/Everything_Everywhere_All_at_Once'},\n",
       " {'year': 2024,\n",
       "  'ceremony_number': 96,\n",
       "  'full_name': 'TBA',\n",
       "  'artistic_name': 'TBA',\n",
       "  'country_birth': 'TBA',\n",
       "  'countries_citizenship': 'TBA',\n",
       "  'role': 'TBA',\n",
       "  'movie': 'TBA',\n",
       "  'release_year': 'TBA',\n",
       "  'main_production_country': 'TBA',\n",
       "  'all_production_countries': 'TBA',\n",
       "  'main_language': 'TBA',\n",
       "  'all_languages': 'TBA',\n",
       "  'source_ceremony': 'TBA',\n",
       "  'source_actress': 'TBA',\n",
       "  'source_movie': 'TBA'}]"
      ]
     },
     "execution_count": 30,
     "metadata": {},
     "output_type": "execute_result"
    }
   ],
   "source": [
    "fffffile"
   ]
  }
 ],
 "metadata": {
  "kernelspec": {
   "display_name": "Python 3",
   "language": "python",
   "name": "python3"
  },
  "language_info": {
   "codemirror_mode": {
    "name": "ipython",
    "version": 3
   },
   "file_extension": ".py",
   "mimetype": "text/x-python",
   "name": "python",
   "nbconvert_exporter": "python",
   "pygments_lexer": "ipython3",
   "version": "3.11.2"
  }
 },
 "nbformat": 4,
 "nbformat_minor": 2
}
